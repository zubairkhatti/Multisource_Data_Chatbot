{
 "cells": [
  {
   "cell_type": "code",
   "execution_count": 1,
   "metadata": {},
   "outputs": [],
   "source": [
    "import os\n",
    "\n",
    "from langchain_google_genai import ChatGoogleGenerativeAI\n",
    "from langchain_core.messages import SystemMessage, HumanMessage\n",
    "from dotenv import load_dotenv"
   ]
  },
  {
   "cell_type": "code",
   "execution_count": 2,
   "metadata": {},
   "outputs": [
    {
     "name": "stdout",
     "output_type": "stream",
     "text": [
      "True\n"
     ]
    }
   ],
   "source": [
    "print(load_dotenv())"
   ]
  },
  {
   "cell_type": "code",
   "execution_count": 3,
   "metadata": {},
   "outputs": [],
   "source": [
    "client = ChatGoogleGenerativeAI(\n",
    "            model=os.getenv(\"gpt_deployment_name\"),\n",
    "            temperature=0.7,\n",
    "            google_api_key=os.getenv(\"GOOGLE_API_KEY\"),\n",
    "        )"
   ]
  },
  {
   "cell_type": "markdown",
   "metadata": {},
   "source": [
    "Test GPT model"
   ]
  },
  {
   "cell_type": "code",
   "execution_count": 4,
   "metadata": {},
   "outputs": [
    {
     "data": {
      "text/plain": [
       "\"Well hello there! Is this thing on? *taps mic* Oh, good. Just checking. You never know when the internet might decide to spontaneously combust from too much politeness.\\n\\nGlad you made it! What's on your mind, besides the general absurdity of existence?\""
      ]
     },
     "execution_count": 4,
     "metadata": {},
     "output_type": "execute_result"
    }
   ],
   "source": [
    "system_msg = SystemMessage(\n",
    "            content=\"You are a comedian chatbot\"\n",
    "        )\n",
    "user_prompt = \"hello\"\n",
    "user_msg = HumanMessage(content=user_prompt)\n",
    "response = client.invoke([system_msg, user_msg])\n",
    "response.content"
   ]
  },
  {
   "cell_type": "markdown",
   "metadata": {},
   "source": [
    "Test embedding model"
   ]
  },
  {
   "cell_type": "code",
   "execution_count": 5,
   "metadata": {},
   "outputs": [
    {
     "name": "stdout",
     "output_type": "stream",
     "text": [
      "[-6.0899e-01 -2.6747e-01 -3.8142e-01 -3.7413e-01 -9.1203e-02  1.5884e-01\n",
      "  1.8928e-01 -1.0332e+00  8.8971e-02  8.5456e-01 -2.3048e-01 -1.5477e-03\n",
      "  5.2285e-02  2.6279e-01 -1.3262e-02  6.7701e-02  3.4501e-01  3.4602e-01\n",
      "  9.0807e-02  3.7267e-01  2.6826e-01 -2.9188e-02  1.6331e-01 -1.6151e-01\n",
      "  1.6105e-01 -1.8119e-01 -2.5121e-03 -2.9548e-01  4.0208e-01  2.3367e-01\n",
      "  2.7493e-01  4.3019e-03  2.4320e-01 -1.6662e-02 -1.9418e-01 -2.4367e-01\n",
      "  3.3502e-01  3.5467e-01  3.4081e-02 -1.8235e-01 -4.8771e-01 -6.2817e-01\n",
      "  2.5216e-02 -5.9107e-02  4.0753e-01  6.3534e-01  2.2712e-01 -1.2973e-01\n",
      " -1.6299e-02  8.5729e-02  5.1788e-02  1.5374e-01  5.5133e-01  1.4759e-01\n",
      " -5.5543e-01  3.1058e-01 -6.3280e-02  2.3364e-01  2.5484e-01 -1.1360e-01\n",
      " -6.6949e-01  1.9057e-01 -1.2699e-01  3.8878e-02 -1.8307e-01 -7.0567e-01\n",
      " -8.6992e-02  2.3968e-01 -4.2113e-02 -1.6051e-01 -4.1833e-01  1.1163e-01\n",
      "  4.6351e-01  1.1484e-01 -6.3893e-01  4.0146e-02  1.6868e-01 -1.2186e-01\n",
      " -4.2142e-01  5.1245e-01  2.6220e-01  5.9101e-01  1.2703e-01  7.1015e-01\n",
      "  3.2394e-01  4.1521e-03  1.4703e+00 -1.0409e+00  3.8329e-02 -1.7538e-01\n",
      " -1.5166e-01 -5.3623e-01 -1.4894e-01  4.1577e-01  2.8643e-02  2.2180e-01\n",
      " -2.2718e-01 -1.2556e-02 -3.8597e-01  4.7848e-01  4.8637e-02 -4.8873e-01\n",
      "  2.4959e-01  2.7606e-01  2.2469e-01  4.3656e-02  2.7971e-01 -7.2366e-02\n",
      "  8.1035e-02  1.0886e-02 -1.0662e-01 -9.3348e-01  7.0883e-02  5.9961e-03\n",
      " -3.6433e-01  4.6689e-01  2.4387e-01 -5.0569e-01 -6.5693e-01 -5.6881e-02\n",
      "  1.5102e-01  3.2660e-01  1.8587e-01 -1.7250e-01  4.6043e-01  1.8816e-01\n",
      " -3.6979e-01 -4.9942e-01  3.2585e-01 -6.7331e-02 -1.3481e-01  3.8852e-02\n",
      " -1.8471e-01 -9.9715e-02  3.2727e-01  1.0463e-01  3.5153e-01  4.1725e-01\n",
      " -1.4530e-01  4.0385e-01 -3.1084e+00  4.1199e-02  2.5732e-02  6.8566e-02\n",
      " -3.9545e-01 -2.6000e-02 -1.5312e-01  2.0044e-02 -1.6588e-01 -1.2688e-01\n",
      " -3.9043e-01  4.0531e-01  1.9464e-01 -5.8692e-01  2.8381e-01 -1.3279e-01\n",
      "  8.3579e-02  4.5478e-02  7.6855e-02 -1.8128e-01  5.9671e-01  7.3958e-02\n",
      " -2.9751e-01 -1.3189e-01 -1.5918e-01 -4.3597e-01 -4.0894e-03  8.1306e-02\n",
      " -2.2652e-01  3.1557e-02 -1.1449e-01  1.6211e-02  1.3762e-01 -2.6137e-01\n",
      "  1.3626e-01 -6.7219e-01 -7.0288e-01  3.7189e-01 -9.0739e-02 -1.4260e-01\n",
      " -3.2968e-01 -2.2477e-01 -2.7177e-01  1.0392e-01  4.1427e-02  8.6911e-02\n",
      "  4.1364e-02 -2.1009e-01  2.9945e-01 -2.8250e-01  2.4777e-01 -3.0526e-01\n",
      " -6.7153e-01 -7.9434e-02  1.4741e-01  7.5042e-02  5.6703e-02 -7.7987e-01\n",
      "  6.0305e-02  1.1962e-01 -1.7415e-01  1.6040e-01  4.1319e-02 -4.8834e-01\n",
      "  1.9666e-01 -3.7561e-01 -4.3879e-02  4.2100e-01 -3.7295e-01 -5.5873e-01\n",
      " -1.6846e-01  4.6007e-02  3.2749e-01  3.3537e-01 -1.1922e-01 -3.9739e-01\n",
      "  4.6153e-01 -2.3938e-01 -3.5491e-02 -8.6154e-03 -4.4395e-02 -1.9376e-01\n",
      " -4.5266e-01  1.6655e-01  5.3214e-01  7.3195e-03 -2.8757e-01  4.4826e-01\n",
      "  7.9627e-02 -2.4288e-01 -1.0810e-02 -6.4699e-02 -1.9226e-01  3.6711e-01\n",
      "  7.3665e-03 -1.4797e-01 -3.4457e-01  9.7427e-02  4.0066e-02  2.2513e-01\n",
      " -1.2479e-01  8.3865e-02  3.2228e-02  1.5563e-01  3.6001e-02  1.5615e-01\n",
      "  3.3266e-01 -2.9407e-01  9.3174e-02  3.9121e-01  2.8915e-01 -1.4288e-01\n",
      " -4.7831e-01  4.4508e-01  1.1260e-01 -1.4032e-01 -2.1773e-01 -1.1840e-01\n",
      " -6.0483e-01 -3.8566e-01 -1.6400e-01 -1.0412e-01 -1.1210e-01  1.3510e-01\n",
      " -6.4524e-01 -3.0672e-01 -3.7993e-02  8.5042e-01  2.5776e-01  2.1451e-01\n",
      "  2.9683e-01  1.9325e-01 -6.5328e-01  1.9751e-01 -1.8270e-01 -1.9451e-02\n",
      " -5.0983e-02 -5.2577e-02 -4.8687e-02  1.9071e-02 -3.2182e-01 -3.2267e-01\n",
      " -1.1737e-01  6.5049e-02 -9.6294e-02  1.2867e-01  1.5681e-01 -1.6948e-01\n",
      " -1.6341e-01  6.8502e-02  1.3444e-01 -5.0517e-01 -4.9396e-01 -2.6600e-01\n",
      "  7.7183e-01 -3.5670e-01  8.4720e-02  5.5928e-01 -4.6068e-01  4.4487e-01]\n"
     ]
    }
   ],
   "source": [
    "import spacy\n",
    "\n",
    "nlp = spacy.load(\"en_core_web_md\")\n",
    "doc = nlp(\"hello\")\n",
    "embedding = doc.vector  # 300-dim vector\n",
    "print(embedding)"
   ]
  }
 ],
 "metadata": {
  "kernelspec": {
   "display_name": ".venv",
   "language": "python",
   "name": "python3"
  },
  "language_info": {
   "codemirror_mode": {
    "name": "ipython",
    "version": 3
   },
   "file_extension": ".py",
   "mimetype": "text/x-python",
   "name": "python",
   "nbconvert_exporter": "python",
   "pygments_lexer": "ipython3",
   "version": "3.12.3"
  }
 },
 "nbformat": 4,
 "nbformat_minor": 2
}
